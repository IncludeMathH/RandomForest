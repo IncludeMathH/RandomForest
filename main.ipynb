{
 "cells": [
  {
   "cell_type": "code",
   "execution_count": 1,
   "metadata": {
    "collapsed": true,
    "pycharm": {
     "name": "#%%\n"
    }
   },
   "outputs": [],
   "source": [
    "import numpy as np\n",
    "import pandas as pd"
   ]
  },
  {
   "cell_type": "code",
   "execution_count": 2,
   "outputs": [
    {
     "data": {
      "text/plain": "  HeartDisease    BMI Smoking AlcoholDrinking Stroke  PhysicalHealth  \\\n0           No  16.60     Yes              No     No             3.0   \n1           No  20.34      No              No    Yes             0.0   \n2           No  26.58     Yes              No     No            20.0   \n3           No  24.21      No              No     No             0.0   \n4           No  23.71      No              No     No            28.0   \n\n   MentalHealth DiffWalking     Sex  AgeCategory   Race Diabetic  \\\n0          30.0          No  Female        55-59  White      Yes   \n1           0.0          No  Female  80 or older  White       No   \n2          30.0          No    Male        65-69  White      Yes   \n3           0.0          No  Female        75-79  White       No   \n4           0.0         Yes  Female        40-44  White       No   \n\n  PhysicalActivity  GenHealth  SleepTime Asthma KidneyDisease SkinCancer  \n0              Yes  Very good        5.0    Yes            No        Yes  \n1              Yes  Very good        7.0     No            No         No  \n2              Yes       Fair        8.0    Yes            No         No  \n3               No       Good        6.0     No            No        Yes  \n4              Yes  Very good        8.0     No            No         No  ",
      "text/html": "<div>\n<style scoped>\n    .dataframe tbody tr th:only-of-type {\n        vertical-align: middle;\n    }\n\n    .dataframe tbody tr th {\n        vertical-align: top;\n    }\n\n    .dataframe thead th {\n        text-align: right;\n    }\n</style>\n<table border=\"1\" class=\"dataframe\">\n  <thead>\n    <tr style=\"text-align: right;\">\n      <th></th>\n      <th>HeartDisease</th>\n      <th>BMI</th>\n      <th>Smoking</th>\n      <th>AlcoholDrinking</th>\n      <th>Stroke</th>\n      <th>PhysicalHealth</th>\n      <th>MentalHealth</th>\n      <th>DiffWalking</th>\n      <th>Sex</th>\n      <th>AgeCategory</th>\n      <th>Race</th>\n      <th>Diabetic</th>\n      <th>PhysicalActivity</th>\n      <th>GenHealth</th>\n      <th>SleepTime</th>\n      <th>Asthma</th>\n      <th>KidneyDisease</th>\n      <th>SkinCancer</th>\n    </tr>\n  </thead>\n  <tbody>\n    <tr>\n      <th>0</th>\n      <td>No</td>\n      <td>16.60</td>\n      <td>Yes</td>\n      <td>No</td>\n      <td>No</td>\n      <td>3.0</td>\n      <td>30.0</td>\n      <td>No</td>\n      <td>Female</td>\n      <td>55-59</td>\n      <td>White</td>\n      <td>Yes</td>\n      <td>Yes</td>\n      <td>Very good</td>\n      <td>5.0</td>\n      <td>Yes</td>\n      <td>No</td>\n      <td>Yes</td>\n    </tr>\n    <tr>\n      <th>1</th>\n      <td>No</td>\n      <td>20.34</td>\n      <td>No</td>\n      <td>No</td>\n      <td>Yes</td>\n      <td>0.0</td>\n      <td>0.0</td>\n      <td>No</td>\n      <td>Female</td>\n      <td>80 or older</td>\n      <td>White</td>\n      <td>No</td>\n      <td>Yes</td>\n      <td>Very good</td>\n      <td>7.0</td>\n      <td>No</td>\n      <td>No</td>\n      <td>No</td>\n    </tr>\n    <tr>\n      <th>2</th>\n      <td>No</td>\n      <td>26.58</td>\n      <td>Yes</td>\n      <td>No</td>\n      <td>No</td>\n      <td>20.0</td>\n      <td>30.0</td>\n      <td>No</td>\n      <td>Male</td>\n      <td>65-69</td>\n      <td>White</td>\n      <td>Yes</td>\n      <td>Yes</td>\n      <td>Fair</td>\n      <td>8.0</td>\n      <td>Yes</td>\n      <td>No</td>\n      <td>No</td>\n    </tr>\n    <tr>\n      <th>3</th>\n      <td>No</td>\n      <td>24.21</td>\n      <td>No</td>\n      <td>No</td>\n      <td>No</td>\n      <td>0.0</td>\n      <td>0.0</td>\n      <td>No</td>\n      <td>Female</td>\n      <td>75-79</td>\n      <td>White</td>\n      <td>No</td>\n      <td>No</td>\n      <td>Good</td>\n      <td>6.0</td>\n      <td>No</td>\n      <td>No</td>\n      <td>Yes</td>\n    </tr>\n    <tr>\n      <th>4</th>\n      <td>No</td>\n      <td>23.71</td>\n      <td>No</td>\n      <td>No</td>\n      <td>No</td>\n      <td>28.0</td>\n      <td>0.0</td>\n      <td>Yes</td>\n      <td>Female</td>\n      <td>40-44</td>\n      <td>White</td>\n      <td>No</td>\n      <td>Yes</td>\n      <td>Very good</td>\n      <td>8.0</td>\n      <td>No</td>\n      <td>No</td>\n      <td>No</td>\n    </tr>\n  </tbody>\n</table>\n</div>"
     },
     "execution_count": 2,
     "metadata": {},
     "output_type": "execute_result"
    }
   ],
   "source": [
    "df = pd.read_csv('./data/heart_2020_cleaned.csv')\n",
    "df.head()             # 输出前5条数据"
   ],
   "metadata": {
    "collapsed": false,
    "pycharm": {
     "name": "#%%\n"
    }
   }
  },
  {
   "cell_type": "code",
   "execution_count": 3,
   "outputs": [
    {
     "data": {
      "text/plain": "HeartDisease           2\nBMI                 3604\nSmoking                2\nAlcoholDrinking        2\nStroke                 2\nPhysicalHealth        31\nMentalHealth          31\nDiffWalking            2\nSex                    2\nAgeCategory           13\nRace                   6\nDiabetic               4\nPhysicalActivity       2\nGenHealth              5\nSleepTime             24\nAsthma                 2\nKidneyDisease          2\nSkinCancer             2\ndtype: int64"
     },
     "execution_count": 3,
     "metadata": {},
     "output_type": "execute_result"
    }
   ],
   "source": [
    "df.nunique()"
   ],
   "metadata": {
    "collapsed": false,
    "pycharm": {
     "name": "#%%\n"
    }
   }
  },
  {
   "cell_type": "code",
   "execution_count": 4,
   "outputs": [],
   "source": [
    "df =  df[df.columns].replace({'Yes':1, 'No':0,\n",
    "                              'Male':1,'Female':0,\n",
    "                              'No, borderline diabetes':0,'Yes (during pregnancy)':1})   # 注意Diabetic 有特殊的数值"
   ],
   "metadata": {
    "collapsed": false,
    "pycharm": {
     "name": "#%%\n"
    }
   }
  },
  {
   "cell_type": "code",
   "execution_count": 5,
   "outputs": [
    {
     "data": {
      "text/plain": "   HeartDisease  BMI  Smoking  AlcoholDrinking  Stroke  PhysicalHealth  \\\n0             0    0        1                0       0               0   \n1             0    1        0                0       1               0   \n2             0    2        1                0       0               1   \n3             0    2        0                0       0               0   \n4             0    1        0                0       0               2   \n\n   MentalHealth  DiffWalking  Sex  AgeCategory   Race  Diabetic  \\\n0             2            0    0        55-59  White         1   \n1             0            0    0  80 or older  White         0   \n2             2            0    1        65-69  White         1   \n3             0            0    0        75-79  White         0   \n4             0            1    0        40-44  White         0   \n\n   PhysicalActivity  GenHealth  SleepTime  Asthma  KidneyDisease  SkinCancer  \n0                 1  Very good          0       1              0           1  \n1                 1  Very good          1       0              0           0  \n2                 1       Fair          1       1              0           0  \n3                 0       Good          0       0              0           1  \n4                 1  Very good          1       0              0           0  ",
      "text/html": "<div>\n<style scoped>\n    .dataframe tbody tr th:only-of-type {\n        vertical-align: middle;\n    }\n\n    .dataframe tbody tr th {\n        vertical-align: top;\n    }\n\n    .dataframe thead th {\n        text-align: right;\n    }\n</style>\n<table border=\"1\" class=\"dataframe\">\n  <thead>\n    <tr style=\"text-align: right;\">\n      <th></th>\n      <th>HeartDisease</th>\n      <th>BMI</th>\n      <th>Smoking</th>\n      <th>AlcoholDrinking</th>\n      <th>Stroke</th>\n      <th>PhysicalHealth</th>\n      <th>MentalHealth</th>\n      <th>DiffWalking</th>\n      <th>Sex</th>\n      <th>AgeCategory</th>\n      <th>Race</th>\n      <th>Diabetic</th>\n      <th>PhysicalActivity</th>\n      <th>GenHealth</th>\n      <th>SleepTime</th>\n      <th>Asthma</th>\n      <th>KidneyDisease</th>\n      <th>SkinCancer</th>\n    </tr>\n  </thead>\n  <tbody>\n    <tr>\n      <th>0</th>\n      <td>0</td>\n      <td>0</td>\n      <td>1</td>\n      <td>0</td>\n      <td>0</td>\n      <td>0</td>\n      <td>2</td>\n      <td>0</td>\n      <td>0</td>\n      <td>55-59</td>\n      <td>White</td>\n      <td>1</td>\n      <td>1</td>\n      <td>Very good</td>\n      <td>0</td>\n      <td>1</td>\n      <td>0</td>\n      <td>1</td>\n    </tr>\n    <tr>\n      <th>1</th>\n      <td>0</td>\n      <td>1</td>\n      <td>0</td>\n      <td>0</td>\n      <td>1</td>\n      <td>0</td>\n      <td>0</td>\n      <td>0</td>\n      <td>0</td>\n      <td>80 or older</td>\n      <td>White</td>\n      <td>0</td>\n      <td>1</td>\n      <td>Very good</td>\n      <td>1</td>\n      <td>0</td>\n      <td>0</td>\n      <td>0</td>\n    </tr>\n    <tr>\n      <th>2</th>\n      <td>0</td>\n      <td>2</td>\n      <td>1</td>\n      <td>0</td>\n      <td>0</td>\n      <td>1</td>\n      <td>2</td>\n      <td>0</td>\n      <td>1</td>\n      <td>65-69</td>\n      <td>White</td>\n      <td>1</td>\n      <td>1</td>\n      <td>Fair</td>\n      <td>1</td>\n      <td>1</td>\n      <td>0</td>\n      <td>0</td>\n    </tr>\n    <tr>\n      <th>3</th>\n      <td>0</td>\n      <td>2</td>\n      <td>0</td>\n      <td>0</td>\n      <td>0</td>\n      <td>0</td>\n      <td>0</td>\n      <td>0</td>\n      <td>0</td>\n      <td>75-79</td>\n      <td>White</td>\n      <td>0</td>\n      <td>0</td>\n      <td>Good</td>\n      <td>0</td>\n      <td>0</td>\n      <td>0</td>\n      <td>1</td>\n    </tr>\n    <tr>\n      <th>4</th>\n      <td>0</td>\n      <td>1</td>\n      <td>0</td>\n      <td>0</td>\n      <td>0</td>\n      <td>2</td>\n      <td>0</td>\n      <td>1</td>\n      <td>0</td>\n      <td>40-44</td>\n      <td>White</td>\n      <td>0</td>\n      <td>1</td>\n      <td>Very good</td>\n      <td>1</td>\n      <td>0</td>\n      <td>0</td>\n      <td>0</td>\n    </tr>\n  </tbody>\n</table>\n</div>"
     },
     "execution_count": 5,
     "metadata": {},
     "output_type": "execute_result"
    }
   ],
   "source": [
    "BMI_bin = [0, 18.5, 24, 28, 100]\n",
    "df['BMI'] = pd.cut(df['BMI'], BMI_bin, labels=False)\n",
    "\n",
    "SleepTime_bin = [0, 6, 8, 24]\n",
    "df['SleepTime'] = pd.cut(df['SleepTime'], SleepTime_bin, labels=False)\n",
    "\n",
    "Health_bin = [-1, 10, 20, 30]\n",
    "df['MentalHealth'] = pd.cut(df['MentalHealth'], Health_bin, labels=False)\n",
    "df['PhysicalHealth'] = pd.cut(df['PhysicalHealth'], Health_bin, labels=False)\n",
    "df.head()"
   ],
   "metadata": {
    "collapsed": false,
    "pycharm": {
     "name": "#%%\n"
    }
   }
  },
  {
   "cell_type": "code",
   "execution_count": 6,
   "outputs": [
    {
     "data": {
      "text/plain": "   HeartDisease  BMI  Smoking  AlcoholDrinking  Stroke  PhysicalHealth  \\\n0             0    0        1                0       0               0   \n1             0    1        0                0       1               0   \n2             0    2        1                0       0               1   \n3             0    2        0                0       0               0   \n4             0    1        0                0       0               2   \n\n   MentalHealth  DiffWalking  Sex  Diabetic  ...  AgeCategory_80 or older  \\\n0             2            0    0         1  ...                        0   \n1             0            0    0         0  ...                        1   \n2             2            0    1         1  ...                        0   \n3             0            0    0         0  ...                        0   \n4             0            1    0         0  ...                        0   \n\n   Race_Asian  Race_Black  Race_Hispanic  Race_Other  Race_White  \\\n0           0           0              0           0           1   \n1           0           0              0           0           1   \n2           0           0              0           0           1   \n3           0           0              0           0           1   \n4           0           0              0           0           1   \n\n   GenHealth_Fair  GenHealth_Good  GenHealth_Poor  GenHealth_Very good  \n0               0               0               0                    1  \n1               0               0               0                    1  \n2               1               0               0                    0  \n3               0               1               0                    0  \n4               0               0               0                    1  \n\n[5 rows x 36 columns]",
      "text/html": "<div>\n<style scoped>\n    .dataframe tbody tr th:only-of-type {\n        vertical-align: middle;\n    }\n\n    .dataframe tbody tr th {\n        vertical-align: top;\n    }\n\n    .dataframe thead th {\n        text-align: right;\n    }\n</style>\n<table border=\"1\" class=\"dataframe\">\n  <thead>\n    <tr style=\"text-align: right;\">\n      <th></th>\n      <th>HeartDisease</th>\n      <th>BMI</th>\n      <th>Smoking</th>\n      <th>AlcoholDrinking</th>\n      <th>Stroke</th>\n      <th>PhysicalHealth</th>\n      <th>MentalHealth</th>\n      <th>DiffWalking</th>\n      <th>Sex</th>\n      <th>Diabetic</th>\n      <th>...</th>\n      <th>AgeCategory_80 or older</th>\n      <th>Race_Asian</th>\n      <th>Race_Black</th>\n      <th>Race_Hispanic</th>\n      <th>Race_Other</th>\n      <th>Race_White</th>\n      <th>GenHealth_Fair</th>\n      <th>GenHealth_Good</th>\n      <th>GenHealth_Poor</th>\n      <th>GenHealth_Very good</th>\n    </tr>\n  </thead>\n  <tbody>\n    <tr>\n      <th>0</th>\n      <td>0</td>\n      <td>0</td>\n      <td>1</td>\n      <td>0</td>\n      <td>0</td>\n      <td>0</td>\n      <td>2</td>\n      <td>0</td>\n      <td>0</td>\n      <td>1</td>\n      <td>...</td>\n      <td>0</td>\n      <td>0</td>\n      <td>0</td>\n      <td>0</td>\n      <td>0</td>\n      <td>1</td>\n      <td>0</td>\n      <td>0</td>\n      <td>0</td>\n      <td>1</td>\n    </tr>\n    <tr>\n      <th>1</th>\n      <td>0</td>\n      <td>1</td>\n      <td>0</td>\n      <td>0</td>\n      <td>1</td>\n      <td>0</td>\n      <td>0</td>\n      <td>0</td>\n      <td>0</td>\n      <td>0</td>\n      <td>...</td>\n      <td>1</td>\n      <td>0</td>\n      <td>0</td>\n      <td>0</td>\n      <td>0</td>\n      <td>1</td>\n      <td>0</td>\n      <td>0</td>\n      <td>0</td>\n      <td>1</td>\n    </tr>\n    <tr>\n      <th>2</th>\n      <td>0</td>\n      <td>2</td>\n      <td>1</td>\n      <td>0</td>\n      <td>0</td>\n      <td>1</td>\n      <td>2</td>\n      <td>0</td>\n      <td>1</td>\n      <td>1</td>\n      <td>...</td>\n      <td>0</td>\n      <td>0</td>\n      <td>0</td>\n      <td>0</td>\n      <td>0</td>\n      <td>1</td>\n      <td>1</td>\n      <td>0</td>\n      <td>0</td>\n      <td>0</td>\n    </tr>\n    <tr>\n      <th>3</th>\n      <td>0</td>\n      <td>2</td>\n      <td>0</td>\n      <td>0</td>\n      <td>0</td>\n      <td>0</td>\n      <td>0</td>\n      <td>0</td>\n      <td>0</td>\n      <td>0</td>\n      <td>...</td>\n      <td>0</td>\n      <td>0</td>\n      <td>0</td>\n      <td>0</td>\n      <td>0</td>\n      <td>1</td>\n      <td>0</td>\n      <td>1</td>\n      <td>0</td>\n      <td>0</td>\n    </tr>\n    <tr>\n      <th>4</th>\n      <td>0</td>\n      <td>1</td>\n      <td>0</td>\n      <td>0</td>\n      <td>0</td>\n      <td>2</td>\n      <td>0</td>\n      <td>1</td>\n      <td>0</td>\n      <td>0</td>\n      <td>...</td>\n      <td>0</td>\n      <td>0</td>\n      <td>0</td>\n      <td>0</td>\n      <td>0</td>\n      <td>1</td>\n      <td>0</td>\n      <td>0</td>\n      <td>0</td>\n      <td>1</td>\n    </tr>\n  </tbody>\n</table>\n<p>5 rows × 36 columns</p>\n</div>"
     },
     "execution_count": 6,
     "metadata": {},
     "output_type": "execute_result"
    }
   ],
   "source": [
    "df = pd.get_dummies(df, drop_first=True)  # 转换为虚拟变量。这是计量经济学中常用的一个技巧\n",
    "df.head()"
   ],
   "metadata": {
    "collapsed": false,
    "pycharm": {
     "name": "#%%\n"
    }
   }
  },
  {
   "cell_type": "code",
   "execution_count": 7,
   "outputs": [
    {
     "name": "stdout",
     "output_type": "stream",
     "text": [
      "<class 'pandas.core.frame.DataFrame'>\n",
      "RangeIndex: 319795 entries, 0 to 319794\n",
      "Data columns (total 36 columns):\n",
      " #   Column                   Non-Null Count   Dtype\n",
      "---  ------                   --------------   -----\n",
      " 0   HeartDisease             319795 non-null  int64\n",
      " 1   BMI                      319795 non-null  int64\n",
      " 2   Smoking                  319795 non-null  int64\n",
      " 3   AlcoholDrinking          319795 non-null  int64\n",
      " 4   Stroke                   319795 non-null  int64\n",
      " 5   PhysicalHealth           319795 non-null  int64\n",
      " 6   MentalHealth             319795 non-null  int64\n",
      " 7   DiffWalking              319795 non-null  int64\n",
      " 8   Sex                      319795 non-null  int64\n",
      " 9   Diabetic                 319795 non-null  int64\n",
      " 10  PhysicalActivity         319795 non-null  int64\n",
      " 11  SleepTime                319795 non-null  int64\n",
      " 12  Asthma                   319795 non-null  int64\n",
      " 13  KidneyDisease            319795 non-null  int64\n",
      " 14  SkinCancer               319795 non-null  int64\n",
      " 15  AgeCategory_25-29        319795 non-null  uint8\n",
      " 16  AgeCategory_30-34        319795 non-null  uint8\n",
      " 17  AgeCategory_35-39        319795 non-null  uint8\n",
      " 18  AgeCategory_40-44        319795 non-null  uint8\n",
      " 19  AgeCategory_45-49        319795 non-null  uint8\n",
      " 20  AgeCategory_50-54        319795 non-null  uint8\n",
      " 21  AgeCategory_55-59        319795 non-null  uint8\n",
      " 22  AgeCategory_60-64        319795 non-null  uint8\n",
      " 23  AgeCategory_65-69        319795 non-null  uint8\n",
      " 24  AgeCategory_70-74        319795 non-null  uint8\n",
      " 25  AgeCategory_75-79        319795 non-null  uint8\n",
      " 26  AgeCategory_80 or older  319795 non-null  uint8\n",
      " 27  Race_Asian               319795 non-null  uint8\n",
      " 28  Race_Black               319795 non-null  uint8\n",
      " 29  Race_Hispanic            319795 non-null  uint8\n",
      " 30  Race_Other               319795 non-null  uint8\n",
      " 31  Race_White               319795 non-null  uint8\n",
      " 32  GenHealth_Fair           319795 non-null  uint8\n",
      " 33  GenHealth_Good           319795 non-null  uint8\n",
      " 34  GenHealth_Poor           319795 non-null  uint8\n",
      " 35  GenHealth_Very good      319795 non-null  uint8\n",
      "dtypes: int64(15), uint8(21)\n",
      "memory usage: 43.0 MB\n"
     ]
    }
   ],
   "source": [
    "df.info()"
   ],
   "metadata": {
    "collapsed": false,
    "pycharm": {
     "name": "#%%\n"
    }
   }
  },
  {
   "cell_type": "code",
   "execution_count": 8,
   "outputs": [],
   "source": [
    "from imblearn.over_sampling import SMOTE\n",
    "#Select Features\n",
    "X = df.drop(columns =['HeartDisease'], axis = 1)\n",
    "\n",
    "#Select Target\n",
    "y = df['HeartDisease']\n",
    "\n",
    "X_res, y_res = SMOTE().fit_resample(X, y)  # 进行类别均衡操作"
   ],
   "metadata": {
    "collapsed": false,
    "pycharm": {
     "name": "#%%\n"
    }
   }
  },
  {
   "cell_type": "code",
   "execution_count": 9,
   "outputs": [
    {
     "name": "stdout",
     "output_type": "stream",
     "text": [
      "Shape of training feature: (467875, 35)\n",
      "Shape of testing feature: (116969, 35)\n",
      "Shape of training label: (467875,)\n",
      "Shape of training label: (116969,)\n"
     ]
    }
   ],
   "source": [
    "# Set Training and Testing Data\n",
    "from sklearn.model_selection import train_test_split\n",
    "X_train, X_test, y_train, y_test = train_test_split(X_res, y_res, shuffle=True, test_size=0.2, random_state=5)  # 划分训练集和测试集\n",
    "\n",
    "print('Shape of training feature:', X_train.shape)\n",
    "print('Shape of testing feature:', X_test.shape)\n",
    "print('Shape of training label:', y_train.shape)\n",
    "print('Shape of training label:', y_test.shape)"
   ],
   "metadata": {
    "collapsed": false,
    "pycharm": {
     "name": "#%%\n"
    }
   }
  },
  {
   "cell_type": "code",
   "execution_count": 10,
   "outputs": [
    {
     "name": "stdout",
     "output_type": "stream",
     "text": [
      "Counter({0: 234019, 1: 233856})\n"
     ]
    }
   ],
   "source": [
    "from collections import Counter\n",
    "print(Counter(y_train))"
   ],
   "metadata": {
    "collapsed": false,
    "pycharm": {
     "name": "#%%\n"
    }
   }
  },
  {
   "cell_type": "code",
   "execution_count": 11,
   "outputs": [],
   "source": [
    "from RandomForestClassification import RandomForestClassifier"
   ],
   "metadata": {
    "collapsed": false,
    "pycharm": {
     "name": "#%%\n"
    }
   }
  },
  {
   "cell_type": "code",
   "execution_count": null,
   "outputs": [
    {
     "name": "stdout",
     "output_type": "stream",
     "text": [
      "A tree has been built!\n",
      "A tree has been built!\n",
      "A tree has been built!\n",
      "A tree has been built!\n",
      "A tree has been built!\n",
      "A tree has been built!\n",
      "A tree has been built!\n",
      "A tree has been built!\n",
      "A tree has been built!\n",
      "A tree has been built!\n",
      "A tree has been built!\n",
      "A tree has been built!\n",
      "A tree has been built!\n",
      "A tree has been built!\n",
      "A tree has been built!\n",
      "A tree has been built!\n",
      "A tree has been built!\n",
      "A tree has been built!\n",
      "A tree has been built!\n",
      "A tree has been built!\n",
      "A tree has been built!\n",
      "A tree has been built!\n",
      "A tree has been built!\n",
      "A tree has been built!\n",
      "A tree has been built!\n",
      "A tree has been built!\n",
      "A tree has been built!\n",
      "A tree has been built!\n",
      "A tree has been built!\n",
      "A tree has been built!\n",
      "A tree has been built!\n",
      "A tree has been built!\n",
      "A tree has been built!\n",
      "A tree has been built!\n",
      "A tree has been built!\n",
      "A tree has been built!\n",
      "A tree has been built!\n",
      "A tree has been built!\n",
      "A tree has been built!\n",
      "A tree has been built!\n",
      "A tree has been built!\n",
      "A tree has been built!\n",
      "A tree has been built!\n",
      "A tree has been built!\n",
      "A tree has been built!\n",
      "A tree has been built!\n",
      "A tree has been built!\n",
      "A tree has been built!\n",
      "A tree has been built!\n",
      "A tree has been built!\n",
      "A tree has been built!\n",
      "A tree has been built!\n",
      "A tree has been built!\n",
      "A tree has been built!\n",
      "A tree has been built!\n",
      "A tree has been built!\n",
      "A tree has been built!\n",
      "A tree has been built!\n",
      "A tree has been built!\n",
      "A tree has been built!\n",
      "A tree has been built!\n",
      "A tree has been built!\n",
      "A tree has been built!\n",
      "A tree has been built!\n",
      "A tree has been built!\n",
      "A tree has been built!\n",
      "A tree has been built!\n",
      "A tree has been built!\n",
      "A tree has been built!\n",
      "A tree has been built!\n",
      "A tree has been built!\n",
      "A tree has been built!\n"
     ]
    }
   ],
   "source": [
    "clf = RandomForestClassifier(n_estimators=100,\n",
    "                             max_depth=5,\n",
    "                             min_samples_split=2,\n",
    "                             min_samples_leaf=2,\n",
    "                             min_split_gain=0.0,\n",
    "                             colsample_bytree=20,\n",
    "                             subsample=1,\n",
    "                             random_state=66)\n",
    "clf.fit(X_train, y_train)\n",
    "\n",
    "from sklearn import metrics\n",
    "print(metrics.accuracy_score(y_train, clf.predict(X_train)))\n",
    "print(metrics.accuracy_score(y_test, clf.predict(X_test)))"
   ],
   "metadata": {
    "collapsed": false,
    "pycharm": {
     "name": "#%%\n",
     "is_executing": true
    }
   }
  },
  {
   "cell_type": "code",
   "execution_count": null,
   "outputs": [],
   "source": [],
   "metadata": {
    "collapsed": false,
    "pycharm": {
     "name": "#%%\n",
     "is_executing": true
    }
   }
  }
 ],
 "metadata": {
  "kernelspec": {
   "display_name": "Python 3",
   "language": "python",
   "name": "python3"
  },
  "language_info": {
   "codemirror_mode": {
    "name": "ipython",
    "version": 2
   },
   "file_extension": ".py",
   "mimetype": "text/x-python",
   "name": "python",
   "nbconvert_exporter": "python",
   "pygments_lexer": "ipython2",
   "version": "2.7.6"
  }
 },
 "nbformat": 4,
 "nbformat_minor": 0
}