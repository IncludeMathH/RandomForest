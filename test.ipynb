{
 "cells": [
  {
   "cell_type": "code",
   "execution_count": 1,
   "metadata": {},
   "outputs": [],
   "source": [
    "import pandas as pd\n",
    "from RandomForestClassification import RandomForestClassifier\n",
    "from sklearn.metrics import accuracy_score, average_precision_score"
   ]
  },
  {
   "cell_type": "code",
   "execution_count": 2,
   "metadata": {},
   "outputs": [
    {
     "name": "stdout",
     "output_type": "stream",
     "text": [
      "A tree has been built!\n",
      "A tree has been built!\n",
      "A tree has been built!\n",
      "A tree has been built!\n",
      "A tree has been built!\n",
      "A tree has been built!\n",
      "A tree has been built!\n",
      "A tree has been built!\n",
      "A tree has been built!\n",
      "A tree has been built!\n",
      "A tree has been built!\n",
      "A tree has been built!\n",
      "A tree has been built!\n",
      "A tree has been built!\n",
      "A tree has been built!\n",
      "A tree has been built!\n",
      "A tree has been built!\n",
      "A tree has been built!A tree has been built!\n",
      "\n",
      "A tree has been built!\n",
      "1.0\n",
      "0.9743589743589743\n",
      "AUPRC 1.0\n",
      "oob_score is False, so no oob error can be generated.\n",
      "oob_error:None\n"
     ]
    }
   ],
   "source": [
    "df = pd.read_csv(\"source/wine.txt\")\n",
    "df = df[df['label'].isin([1, 2])].sample(frac=1, random_state=66).reset_index(drop=True)\n",
    "clf = RandomForestClassifier(n_estimators=20,\n",
    "                                max_depth=5,\n",
    "                                min_samples_split=6,\n",
    "                                min_samples_leaf=2,\n",
    "                                min_split_gain=0.0,\n",
    "                                colsample_bytree=\"sqrt\",\n",
    "                                subsample=0.8,\n",
    "                                random_state=66)\n",
    "train_count = int(0.7 * len(df))\n",
    "feature_list = [\"Alcohol\", \"Malic acid\", \"Ash\", \"Alcalinity of ash\", \"Magnesium\", \"Total phenols\",\n",
    "                \"Flavanoids\", \"Nonflavanoid phenols\", \"Proanthocyanins\", \"Color intensity\", \"Hue\",\n",
    "                \"OD280/OD315 of diluted wines\", \"Proline\"]\n",
    "clf.fit(df.loc[:train_count, feature_list], df.loc[:train_count, 'label'])\n",
    "\n",
    "\n",
    "print(accuracy_score(df.loc[:train_count, 'label'], clf.predict(df.loc[:train_count, feature_list])))\n",
    "\n",
    "y_pred, y_prob = clf.predict(df.loc[train_count:, feature_list], return_prob=True)\n",
    "print(accuracy_score(df.loc[train_count:, 'label'], y_pred))\n",
    "print('AUPRC', average_precision_score(df.loc[train_count:, 'label'], y_prob))\n",
    "oob_error = clf.oob_errors(df.loc[:train_count, 'label'])\n",
    "print(f'oob_error:{oob_error}')"
   ]
  },
  {
   "cell_type": "code",
   "execution_count": 4,
   "metadata": {},
   "outputs": [
    {
     "name": "stdout",
     "output_type": "stream",
     "text": [
      "0.8717948717948718\n",
      "0.8717948717948718\n",
      "0.9743589743589743\n",
      "0.9743589743589743\n",
      "0.9743589743589743\n",
      "0.9743589743589743\n",
      "0.9743589743589743\n",
      "0.9743589743589743\n",
      "0.9743589743589743\n",
      "0.9743589743589743\n",
      "0.9743589743589743\n",
      "0.9743589743589743\n",
      "0.9743589743589743\n",
      "0.9743589743589743\n",
      "0.9743589743589743\n",
      "0.9743589743589743\n",
      "0.9743589743589743\n",
      "0.9743589743589743\n",
      "0.9743589743589743\n",
      "0.9743589743589743\n"
     ]
    }
   ],
   "source": [
    "for i in range(1, 20+1):\n",
    "    pred = clf.predict(df.loc[train_count:, feature_list], num_trees=i)\n",
    "    print(accuracy_score(df.loc[train_count:, 'label'], pred))"
   ]
  },
  {
   "cell_type": "code",
   "execution_count": null,
   "metadata": {},
   "outputs": [],
   "source": []
  }
 ],
 "metadata": {
  "kernelspec": {
   "display_name": "base",
   "language": "python",
   "name": "python3"
  },
  "language_info": {
   "codemirror_mode": {
    "name": "ipython",
    "version": 3
   },
   "file_extension": ".py",
   "mimetype": "text/x-python",
   "name": "python",
   "nbconvert_exporter": "python",
   "pygments_lexer": "ipython3",
   "version": "3.8.8"
  },
  "orig_nbformat": 4,
  "vscode": {
   "interpreter": {
    "hash": "55f9e8ef75a0bcd4fb87b885433ad44c748443e51025e1354efa0a987743c8e8"
   }
  }
 },
 "nbformat": 4,
 "nbformat_minor": 2
}
