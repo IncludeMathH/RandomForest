{
 "cells": [
  {
   "cell_type": "code",
   "execution_count": 1,
   "outputs": [],
   "source": [
    "import pandas as pd"
   ],
   "metadata": {
    "collapsed": false,
    "pycharm": {
     "name": "#%%\n"
    }
   }
  },
  {
   "cell_type": "code",
   "execution_count": 2,
   "outputs": [
    {
     "data": {
      "text/plain": "   Alcohol  Malic acid   Ash  Alcalinity of ash  Magnesium  Total phenols  \\\n0    14.23        1.71  2.43               15.6        127           2.80   \n1    13.20        1.78  2.14               11.2        100           2.65   \n2    13.16        2.36  2.67               18.6        101           2.80   \n3    14.37        1.95  2.50               16.8        113           3.85   \n4    13.24        2.59  2.87               21.0        118           2.80   \n\n   Flavanoids  Nonflavanoid phenols  Proanthocyanins  Color intensity   Hue  \\\n0        3.06                  0.28             2.29             5.64  1.04   \n1        2.76                  0.26             1.28             4.38  1.05   \n2        3.24                  0.30             2.81             5.68  1.03   \n3        3.49                  0.24             2.18             7.80  0.86   \n4        2.69                  0.39             1.82             4.32  1.04   \n\n   OD280/OD315 of diluted wines  Proline  label  \n0                          3.92     1065      1  \n1                          3.40     1050      1  \n2                          3.17     1185      1  \n3                          3.45     1480      1  \n4                          2.93      735      1  ",
      "text/html": "<div>\n<style scoped>\n    .dataframe tbody tr th:only-of-type {\n        vertical-align: middle;\n    }\n\n    .dataframe tbody tr th {\n        vertical-align: top;\n    }\n\n    .dataframe thead th {\n        text-align: right;\n    }\n</style>\n<table border=\"1\" class=\"dataframe\">\n  <thead>\n    <tr style=\"text-align: right;\">\n      <th></th>\n      <th>Alcohol</th>\n      <th>Malic acid</th>\n      <th>Ash</th>\n      <th>Alcalinity of ash</th>\n      <th>Magnesium</th>\n      <th>Total phenols</th>\n      <th>Flavanoids</th>\n      <th>Nonflavanoid phenols</th>\n      <th>Proanthocyanins</th>\n      <th>Color intensity</th>\n      <th>Hue</th>\n      <th>OD280/OD315 of diluted wines</th>\n      <th>Proline</th>\n      <th>label</th>\n    </tr>\n  </thead>\n  <tbody>\n    <tr>\n      <th>0</th>\n      <td>14.23</td>\n      <td>1.71</td>\n      <td>2.43</td>\n      <td>15.6</td>\n      <td>127</td>\n      <td>2.80</td>\n      <td>3.06</td>\n      <td>0.28</td>\n      <td>2.29</td>\n      <td>5.64</td>\n      <td>1.04</td>\n      <td>3.92</td>\n      <td>1065</td>\n      <td>1</td>\n    </tr>\n    <tr>\n      <th>1</th>\n      <td>13.20</td>\n      <td>1.78</td>\n      <td>2.14</td>\n      <td>11.2</td>\n      <td>100</td>\n      <td>2.65</td>\n      <td>2.76</td>\n      <td>0.26</td>\n      <td>1.28</td>\n      <td>4.38</td>\n      <td>1.05</td>\n      <td>3.40</td>\n      <td>1050</td>\n      <td>1</td>\n    </tr>\n    <tr>\n      <th>2</th>\n      <td>13.16</td>\n      <td>2.36</td>\n      <td>2.67</td>\n      <td>18.6</td>\n      <td>101</td>\n      <td>2.80</td>\n      <td>3.24</td>\n      <td>0.30</td>\n      <td>2.81</td>\n      <td>5.68</td>\n      <td>1.03</td>\n      <td>3.17</td>\n      <td>1185</td>\n      <td>1</td>\n    </tr>\n    <tr>\n      <th>3</th>\n      <td>14.37</td>\n      <td>1.95</td>\n      <td>2.50</td>\n      <td>16.8</td>\n      <td>113</td>\n      <td>3.85</td>\n      <td>3.49</td>\n      <td>0.24</td>\n      <td>2.18</td>\n      <td>7.80</td>\n      <td>0.86</td>\n      <td>3.45</td>\n      <td>1480</td>\n      <td>1</td>\n    </tr>\n    <tr>\n      <th>4</th>\n      <td>13.24</td>\n      <td>2.59</td>\n      <td>2.87</td>\n      <td>21.0</td>\n      <td>118</td>\n      <td>2.80</td>\n      <td>2.69</td>\n      <td>0.39</td>\n      <td>1.82</td>\n      <td>4.32</td>\n      <td>1.04</td>\n      <td>2.93</td>\n      <td>735</td>\n      <td>1</td>\n    </tr>\n  </tbody>\n</table>\n</div>"
     },
     "execution_count": 2,
     "metadata": {},
     "output_type": "execute_result"
    }
   ],
   "source": [
    "df = pd.read_csv(\"source/wine.txt\")\n",
    "df.head()"
   ],
   "metadata": {
    "collapsed": false,
    "pycharm": {
     "name": "#%%\n"
    }
   }
  },
  {
   "cell_type": "code",
   "execution_count": 3,
   "outputs": [
    {
     "data": {
      "text/plain": "Alcohol                         126\nMalic acid                      133\nAsh                              79\nAlcalinity of ash                63\nMagnesium                        53\nTotal phenols                    97\nFlavanoids                      132\nNonflavanoid phenols             39\nProanthocyanins                 101\nColor intensity                 132\nHue                              78\nOD280/OD315 of diluted wines    122\nProline                         121\nlabel                             3\ndtype: int64"
     },
     "execution_count": 3,
     "metadata": {},
     "output_type": "execute_result"
    }
   ],
   "source": [
    "df.nunique()"
   ],
   "metadata": {
    "collapsed": false,
    "pycharm": {
     "name": "#%%\n"
    }
   }
  },
  {
   "cell_type": "code",
   "execution_count": 4,
   "outputs": [
    {
     "data": {
      "text/plain": "   Alcohol  Malic acid   Ash  Alcalinity of ash  Magnesium  Total phenols  \\\n0    13.64        3.10  2.56               15.2        116           2.70   \n1    14.23        1.71  2.43               15.6        127           2.80   \n2    11.41        0.74  2.50               21.0         88           2.48   \n3    11.62        1.99  2.28               18.0         98           3.02   \n4    13.76        1.53  2.70               19.5        132           2.95   \n\n   Flavanoids  Nonflavanoid phenols  Proanthocyanins  Color intensity   Hue  \\\n0        3.03                  0.17             1.66             5.10  0.96   \n1        3.06                  0.28             2.29             5.64  1.04   \n2        2.01                  0.42             1.44             3.08  1.10   \n3        2.26                  0.17             1.35             3.25  1.16   \n4        2.74                  0.50             1.35             5.40  1.25   \n\n   OD280/OD315 of diluted wines  Proline  label  \n0                          3.36      845      1  \n1                          3.92     1065      1  \n2                          2.31      434      2  \n3                          2.96      345      2  \n4                          3.00     1235      1  ",
      "text/html": "<div>\n<style scoped>\n    .dataframe tbody tr th:only-of-type {\n        vertical-align: middle;\n    }\n\n    .dataframe tbody tr th {\n        vertical-align: top;\n    }\n\n    .dataframe thead th {\n        text-align: right;\n    }\n</style>\n<table border=\"1\" class=\"dataframe\">\n  <thead>\n    <tr style=\"text-align: right;\">\n      <th></th>\n      <th>Alcohol</th>\n      <th>Malic acid</th>\n      <th>Ash</th>\n      <th>Alcalinity of ash</th>\n      <th>Magnesium</th>\n      <th>Total phenols</th>\n      <th>Flavanoids</th>\n      <th>Nonflavanoid phenols</th>\n      <th>Proanthocyanins</th>\n      <th>Color intensity</th>\n      <th>Hue</th>\n      <th>OD280/OD315 of diluted wines</th>\n      <th>Proline</th>\n      <th>label</th>\n    </tr>\n  </thead>\n  <tbody>\n    <tr>\n      <th>0</th>\n      <td>13.64</td>\n      <td>3.10</td>\n      <td>2.56</td>\n      <td>15.2</td>\n      <td>116</td>\n      <td>2.70</td>\n      <td>3.03</td>\n      <td>0.17</td>\n      <td>1.66</td>\n      <td>5.10</td>\n      <td>0.96</td>\n      <td>3.36</td>\n      <td>845</td>\n      <td>1</td>\n    </tr>\n    <tr>\n      <th>1</th>\n      <td>14.23</td>\n      <td>1.71</td>\n      <td>2.43</td>\n      <td>15.6</td>\n      <td>127</td>\n      <td>2.80</td>\n      <td>3.06</td>\n      <td>0.28</td>\n      <td>2.29</td>\n      <td>5.64</td>\n      <td>1.04</td>\n      <td>3.92</td>\n      <td>1065</td>\n      <td>1</td>\n    </tr>\n    <tr>\n      <th>2</th>\n      <td>11.41</td>\n      <td>0.74</td>\n      <td>2.50</td>\n      <td>21.0</td>\n      <td>88</td>\n      <td>2.48</td>\n      <td>2.01</td>\n      <td>0.42</td>\n      <td>1.44</td>\n      <td>3.08</td>\n      <td>1.10</td>\n      <td>2.31</td>\n      <td>434</td>\n      <td>2</td>\n    </tr>\n    <tr>\n      <th>3</th>\n      <td>11.62</td>\n      <td>1.99</td>\n      <td>2.28</td>\n      <td>18.0</td>\n      <td>98</td>\n      <td>3.02</td>\n      <td>2.26</td>\n      <td>0.17</td>\n      <td>1.35</td>\n      <td>3.25</td>\n      <td>1.16</td>\n      <td>2.96</td>\n      <td>345</td>\n      <td>2</td>\n    </tr>\n    <tr>\n      <th>4</th>\n      <td>13.76</td>\n      <td>1.53</td>\n      <td>2.70</td>\n      <td>19.5</td>\n      <td>132</td>\n      <td>2.95</td>\n      <td>2.74</td>\n      <td>0.50</td>\n      <td>1.35</td>\n      <td>5.40</td>\n      <td>1.25</td>\n      <td>3.00</td>\n      <td>1235</td>\n      <td>1</td>\n    </tr>\n  </tbody>\n</table>\n</div>"
     },
     "execution_count": 4,
     "metadata": {},
     "output_type": "execute_result"
    }
   ],
   "source": [
    "df = df[df['label'].isin([1, 2])].sample(frac=1, random_state=66).reset_index(drop=True)\n",
    "df.head()"
   ],
   "metadata": {
    "collapsed": false,
    "pycharm": {
     "name": "#%%\n"
    }
   }
  },
  {
   "cell_type": "code",
   "execution_count": 5,
   "outputs": [
    {
     "data": {
      "text/plain": "Alcohol                          97\nMalic acid                       94\nAsh                              71\nAlcalinity of ash                60\nMagnesium                        51\nTotal phenols                    73\nFlavanoids                      101\nNonflavanoid phenols             36\nProanthocyanins                  78\nColor intensity                  96\nHue                              56\nOD280/OD315 of diluted wines     89\nProline                         100\nlabel                             2\ndtype: int64"
     },
     "execution_count": 5,
     "metadata": {},
     "output_type": "execute_result"
    }
   ],
   "source": [
    "df.nunique()"
   ],
   "metadata": {
    "collapsed": false,
    "pycharm": {
     "name": "#%%\n"
    }
   }
  },
  {
   "cell_type": "code",
   "execution_count": 9,
   "outputs": [
    {
     "name": "stdout",
     "output_type": "stream",
     "text": [
      "[0, 1, 4, 4, 0]\n"
     ]
    }
   ],
   "source": [
    "from sklearn.utils import resample\n",
    "\n",
    "df1, index = resample(df[:5], list(range(5)), n_samples=5)\n",
    "print(index)"
   ],
   "metadata": {
    "collapsed": false,
    "pycharm": {
     "name": "#%%\n"
    }
   }
  },
  {
   "cell_type": "code",
   "execution_count": 10,
   "outputs": [
    {
     "data": {
      "text/plain": "   Alcohol  Malic acid   Ash  Alcalinity of ash  Magnesium  Total phenols  \\\n0    13.64        3.10  2.56               15.2        116           2.70   \n1    14.23        1.71  2.43               15.6        127           2.80   \n4    13.76        1.53  2.70               19.5        132           2.95   \n4    13.76        1.53  2.70               19.5        132           2.95   \n0    13.64        3.10  2.56               15.2        116           2.70   \n\n   Flavanoids  Nonflavanoid phenols  Proanthocyanins  Color intensity   Hue  \\\n0        3.03                  0.17             1.66             5.10  0.96   \n1        3.06                  0.28             2.29             5.64  1.04   \n4        2.74                  0.50             1.35             5.40  1.25   \n4        2.74                  0.50             1.35             5.40  1.25   \n0        3.03                  0.17             1.66             5.10  0.96   \n\n   OD280/OD315 of diluted wines  Proline  label  \n0                          3.36      845      1  \n1                          3.92     1065      1  \n4                          3.00     1235      1  \n4                          3.00     1235      1  \n0                          3.36      845      1  ",
      "text/html": "<div>\n<style scoped>\n    .dataframe tbody tr th:only-of-type {\n        vertical-align: middle;\n    }\n\n    .dataframe tbody tr th {\n        vertical-align: top;\n    }\n\n    .dataframe thead th {\n        text-align: right;\n    }\n</style>\n<table border=\"1\" class=\"dataframe\">\n  <thead>\n    <tr style=\"text-align: right;\">\n      <th></th>\n      <th>Alcohol</th>\n      <th>Malic acid</th>\n      <th>Ash</th>\n      <th>Alcalinity of ash</th>\n      <th>Magnesium</th>\n      <th>Total phenols</th>\n      <th>Flavanoids</th>\n      <th>Nonflavanoid phenols</th>\n      <th>Proanthocyanins</th>\n      <th>Color intensity</th>\n      <th>Hue</th>\n      <th>OD280/OD315 of diluted wines</th>\n      <th>Proline</th>\n      <th>label</th>\n    </tr>\n  </thead>\n  <tbody>\n    <tr>\n      <th>0</th>\n      <td>13.64</td>\n      <td>3.10</td>\n      <td>2.56</td>\n      <td>15.2</td>\n      <td>116</td>\n      <td>2.70</td>\n      <td>3.03</td>\n      <td>0.17</td>\n      <td>1.66</td>\n      <td>5.10</td>\n      <td>0.96</td>\n      <td>3.36</td>\n      <td>845</td>\n      <td>1</td>\n    </tr>\n    <tr>\n      <th>1</th>\n      <td>14.23</td>\n      <td>1.71</td>\n      <td>2.43</td>\n      <td>15.6</td>\n      <td>127</td>\n      <td>2.80</td>\n      <td>3.06</td>\n      <td>0.28</td>\n      <td>2.29</td>\n      <td>5.64</td>\n      <td>1.04</td>\n      <td>3.92</td>\n      <td>1065</td>\n      <td>1</td>\n    </tr>\n    <tr>\n      <th>4</th>\n      <td>13.76</td>\n      <td>1.53</td>\n      <td>2.70</td>\n      <td>19.5</td>\n      <td>132</td>\n      <td>2.95</td>\n      <td>2.74</td>\n      <td>0.50</td>\n      <td>1.35</td>\n      <td>5.40</td>\n      <td>1.25</td>\n      <td>3.00</td>\n      <td>1235</td>\n      <td>1</td>\n    </tr>\n    <tr>\n      <th>4</th>\n      <td>13.76</td>\n      <td>1.53</td>\n      <td>2.70</td>\n      <td>19.5</td>\n      <td>132</td>\n      <td>2.95</td>\n      <td>2.74</td>\n      <td>0.50</td>\n      <td>1.35</td>\n      <td>5.40</td>\n      <td>1.25</td>\n      <td>3.00</td>\n      <td>1235</td>\n      <td>1</td>\n    </tr>\n    <tr>\n      <th>0</th>\n      <td>13.64</td>\n      <td>3.10</td>\n      <td>2.56</td>\n      <td>15.2</td>\n      <td>116</td>\n      <td>2.70</td>\n      <td>3.03</td>\n      <td>0.17</td>\n      <td>1.66</td>\n      <td>5.10</td>\n      <td>0.96</td>\n      <td>3.36</td>\n      <td>845</td>\n      <td>1</td>\n    </tr>\n  </tbody>\n</table>\n</div>"
     },
     "execution_count": 10,
     "metadata": {},
     "output_type": "execute_result"
    }
   ],
   "source": [
    "df1.head()"
   ],
   "metadata": {
    "collapsed": false,
    "pycharm": {
     "name": "#%%\n"
    }
   }
  },
  {
   "cell_type": "code",
   "execution_count": null,
   "outputs": [],
   "source": [],
   "metadata": {
    "collapsed": false,
    "pycharm": {
     "name": "#%%\n"
    }
   }
  }
 ],
 "metadata": {
  "kernelspec": {
   "display_name": "Python 3",
   "language": "python",
   "name": "python3"
  },
  "language_info": {
   "codemirror_mode": {
    "name": "ipython",
    "version": 2
   },
   "file_extension": ".py",
   "mimetype": "text/x-python",
   "name": "python",
   "nbconvert_exporter": "python",
   "pygments_lexer": "ipython2",
   "version": "2.7.6"
  }
 },
 "nbformat": 4,
 "nbformat_minor": 0
}